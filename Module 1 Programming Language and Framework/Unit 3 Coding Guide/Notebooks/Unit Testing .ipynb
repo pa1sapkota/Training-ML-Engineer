{
 "cells": [
  {
   "cell_type": "code",
   "execution_count": 6,
   "id": "c567a447-b43d-424a-9279-34672cedd489",
   "metadata": {},
   "outputs": [],
   "source": [
    "import math \n",
    "def is_prime(num): \n",
    "    ''' Checks if number is prime or not '''\n",
    "    for i in range(2, int(math.sqrt(num)+1)): \n",
    "        if num%i==0:\n",
    "            return False \n",
    "    return True "
   ]
  },
  {
   "cell_type": "code",
   "execution_count": 7,
   "id": "c2828d7d-e6a2-4dbd-b3f3-550a58ac5a51",
   "metadata": {},
   "outputs": [
    {
     "data": {
      "text/plain": [
       "True"
      ]
     },
     "execution_count": 7,
     "metadata": {},
     "output_type": "execute_result"
    }
   ],
   "source": [
    "is_prime(3)"
   ]
  },
  {
   "cell_type": "code",
   "execution_count": 8,
   "id": "6712a020-adcc-4d60-9f98-0203cc57ecc0",
   "metadata": {},
   "outputs": [
    {
     "data": {
      "text/plain": [
       "False"
      ]
     },
     "execution_count": 8,
     "metadata": {},
     "output_type": "execute_result"
    }
   ],
   "source": [
    "is_prime(12)"
   ]
  },
  {
   "cell_type": "code",
   "execution_count": 9,
   "id": "21530dac-08ea-4650-8245-47b72854d904",
   "metadata": {},
   "outputs": [],
   "source": [
    "assert is_prime(7) == True"
   ]
  },
  {
   "cell_type": "code",
   "execution_count": 10,
   "id": "6919bd03-34a4-48dc-b3d8-782d5a10735a",
   "metadata": {},
   "outputs": [],
   "source": [
    "import unittest \n",
    "class TestPrime(unittest.TestCase):\n",
    "    def test_two(self): \n",
    "        self.assertTrue(isprime(2))\n",
    "    def test_five(self): \n",
    "        self.assertTrue(isprime(5))\n",
    "    def test_nine(self): \n",
    "        self.assertTrue(isprime(9))\n",
    "    def test_eleven(self): \n",
    "        self.assertTrue(isprime(11))\n",
    "    "
   ]
  },
  {
   "cell_type": "code",
   "execution_count": 11,
   "id": "443eb7ba-1138-4349-bf01-f542d3bfc772",
   "metadata": {},
   "outputs": [
    {
     "name": "stderr",
     "output_type": "stream",
     "text": [
      "E\n",
      "======================================================================\n",
      "ERROR: /home/pa1/ (unittest.loader._FailedTest)\n",
      "----------------------------------------------------------------------\n",
      "AttributeError: module '__main__' has no attribute '/home/pa1/'\n",
      "\n",
      "----------------------------------------------------------------------\n",
      "Ran 1 test in 0.001s\n",
      "\n",
      "FAILED (errors=1)\n"
     ]
    },
    {
     "ename": "SystemExit",
     "evalue": "True",
     "output_type": "error",
     "traceback": [
      "An exception has occurred, use %tb to see the full traceback.\n",
      "\u001b[0;31mSystemExit\u001b[0m\u001b[0;31m:\u001b[0m True\n"
     ]
    },
    {
     "name": "stderr",
     "output_type": "stream",
     "text": [
      "/home/pa1/anaconda3/envs/mllearning/lib/python3.10/site-packages/IPython/core/interactiveshell.py:3516: UserWarning: To exit: use 'exit', 'quit', or Ctrl-D.\n",
      "  warn(\"To exit: use 'exit', 'quit', or Ctrl-D.\", stacklevel=1)\n"
     ]
    }
   ],
   "source": [
    "unittest.main()"
   ]
  },
  {
   "cell_type": "code",
   "execution_count": null,
   "id": "90adc9d9-011c-498e-a66a-e4dcc9d56968",
   "metadata": {},
   "outputs": [],
   "source": []
  }
 ],
 "metadata": {
  "kernelspec": {
   "display_name": "Python 3 (ipykernel)",
   "language": "python",
   "name": "python3"
  },
  "language_info": {
   "codemirror_mode": {
    "name": "ipython",
    "version": 3
   },
   "file_extension": ".py",
   "mimetype": "text/x-python",
   "name": "python",
   "nbconvert_exporter": "python",
   "pygments_lexer": "ipython3",
   "version": "3.10.4"
  }
 },
 "nbformat": 4,
 "nbformat_minor": 5
}
