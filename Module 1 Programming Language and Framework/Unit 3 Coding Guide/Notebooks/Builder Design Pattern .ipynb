{
 "cells": [
  {
   "cell_type": "markdown",
   "id": "296feeae-0be2-4880-8d6f-f7ba97acca0d",
   "metadata": {},
   "source": [
    "# Builder design pattern \n",
    "It is used to seperate the construction of the complex object from its representation. In simple examples when we need to create an object which is composed of the multiple parts then we need to have multiple composition and the final object is made duet ot he fully created of all the parts then in such case the Builder Design Pattern is preferred. \n",
    "## Examples HTML Documents \n",
    "In the creation of the HTML page we have the function to ccreate the title , body , head and these generation are done in the steps , one function adds the title , another adds the heading and so on . \n",
    "For the HTML generation we have two component . \n",
    "- Builder : It is responsible for creating the complex object (title, head, body , footer )\n",
    "  The Director : IT is the component that controls the building process for creating hte title , the heading and so on .. ."
   ]
  },
  {
   "cell_type": "code",
   "execution_count": null,
   "id": "b979d295-40dd-4238-a434-0fec2870308b",
   "metadata": {},
   "outputs": [],
   "source": []
  }
 ],
 "metadata": {
  "kernelspec": {
   "display_name": "Python 3 (ipykernel)",
   "language": "python",
   "name": "python3"
  },
  "language_info": {
   "codemirror_mode": {
    "name": "ipython",
    "version": 3
   },
   "file_extension": ".py",
   "mimetype": "text/x-python",
   "name": "python",
   "nbconvert_exporter": "python",
   "pygments_lexer": "ipython3",
   "version": "3.10.4"
  }
 },
 "nbformat": 4,
 "nbformat_minor": 5
}
