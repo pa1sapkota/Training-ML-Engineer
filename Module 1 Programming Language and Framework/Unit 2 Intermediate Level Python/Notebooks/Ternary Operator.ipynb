{
 "cells": [
  {
   "cell_type": "code",
   "execution_count": 1,
   "id": "ecfe9b47-24b3-4e95-bfb7-2af552dd3e84",
   "metadata": {},
   "outputs": [],
   "source": [
    "# blue prints \n",
    "\"\"\"\n",
    "value_if_true if condition else value_if_false \n",
    "\"\"\"\n",
    "is_nice = True \n",
    "state = \"nice\" if is_nice else \"not nice\" "
   ]
  },
  {
   "cell_type": "code",
   "execution_count": 2,
   "id": "003fbf77-2a04-4527-aace-1161a15406b1",
   "metadata": {},
   "outputs": [
    {
     "name": "stdout",
     "output_type": "stream",
     "text": [
      "nice\n"
     ]
    }
   ],
   "source": [
    "print(state)"
   ]
  },
  {
   "cell_type": "code",
   "execution_count": 3,
   "id": "d473c08c-0a07-44c8-bbc4-65b4ea830d11",
   "metadata": {},
   "outputs": [],
   "source": [
    "# usecase : to make the code compact and maintainable \n",
    "# another way to use this is tuple \n",
    "# (if_test_is_false, if_test_is_true)[test]\n"
   ]
  },
  {
   "cell_type": "code",
   "execution_count": 4,
   "id": "54215ec2-cef6-4a17-b9a6-23ba344598a4",
   "metadata": {},
   "outputs": [],
   "source": [
    "nice = True \n",
    "personality = (\"mean\", \"nice\")[nice]"
   ]
  },
  {
   "cell_type": "code",
   "execution_count": 5,
   "id": "a3ca42bc-7ee1-4e7f-ba92-1651a66a75ae",
   "metadata": {},
   "outputs": [
    {
     "name": "stdout",
     "output_type": "stream",
     "text": [
      "nice\n"
     ]
    }
   ],
   "source": [
    "print(personality)"
   ]
  },
  {
   "cell_type": "code",
   "execution_count": 6,
   "id": "7c1bd1e2-ac5f-4e41-b367-a33d05c7749e",
   "metadata": {},
   "outputs": [],
   "source": [
    "# why this works is because True == 1 and False == 0 \n"
   ]
  },
  {
   "cell_type": "markdown",
   "id": "26c530bb-311c-4ef2-82cc-f1d9462d9ec2",
   "metadata": {},
   "source": [
    "Another reason to avoid using a tupled ternery is that it results in both elements of the tuple being evaluated, whereas the if-else ternary operator does not."
   ]
  },
  {
   "cell_type": "code",
   "execution_count": 7,
   "id": "c379b8de-24d2-4ca4-b6b9-23691acfa613",
   "metadata": {},
   "outputs": [
    {
     "name": "stdout",
     "output_type": "stream",
     "text": [
      "2\n"
     ]
    },
    {
     "ename": "ZeroDivisionError",
     "evalue": "division by zero",
     "output_type": "error",
     "traceback": [
      "\u001b[0;31m---------------------------------------------------------------------------\u001b[0m",
      "\u001b[0;31mZeroDivisionError\u001b[0m                         Traceback (most recent call last)",
      "Cell \u001b[0;32mIn[7], line 5\u001b[0m\n\u001b[1;32m      2\u001b[0m \u001b[38;5;28mprint\u001b[39m(\u001b[38;5;241m2\u001b[39m \u001b[38;5;28;01mif\u001b[39;00m condition \u001b[38;5;28;01melse\u001b[39;00m \u001b[38;5;241m1\u001b[39m\u001b[38;5;241m/\u001b[39m\u001b[38;5;241m0\u001b[39m)\n\u001b[1;32m      3\u001b[0m \u001b[38;5;66;03m#Output is 2\u001b[39;00m\n\u001b[0;32m----> 5\u001b[0m \u001b[38;5;28mprint\u001b[39m((\u001b[38;5;241;43m1\u001b[39;49m\u001b[38;5;241;43m/\u001b[39;49m\u001b[38;5;241;43m0\u001b[39;49m, \u001b[38;5;241m2\u001b[39m)[condition])\n\u001b[1;32m      6\u001b[0m \u001b[38;5;66;03m#ZeroDivisionError is raise\u001b[39;00m\n",
      "\u001b[0;31mZeroDivisionError\u001b[0m: division by zero"
     ]
    }
   ],
   "source": [
    "condition = True\n",
    "print(2 if condition else 1/0)\n",
    "#Output is 2\n",
    "\n",
    "print((1/0, 2)[condition])\n",
    "#ZeroDivisionError is raised"
   ]
  },
  {
   "cell_type": "code",
   "execution_count": 8,
   "id": "2c2e1774-a279-4998-ba11-02a6d3c286fa",
   "metadata": {},
   "outputs": [
    {
     "data": {
      "text/plain": [
       "True"
      ]
     },
     "execution_count": 8,
     "metadata": {},
     "output_type": "execute_result"
    }
   ],
   "source": [
    "True or \"some\""
   ]
  },
  {
   "cell_type": "code",
   "execution_count": 9,
   "id": "7bce41fa-216a-4e19-942e-408daf03f92b",
   "metadata": {},
   "outputs": [
    {
     "data": {
      "text/plain": [
       "'some'"
      ]
     },
     "execution_count": 9,
     "metadata": {},
     "output_type": "execute_result"
    }
   ],
   "source": [
    "False or \"some\""
   ]
  },
  {
   "cell_type": "code",
   "execution_count": 10,
   "id": "ac26d79a-fe2d-4677-8697-c5b8464f6851",
   "metadata": {},
   "outputs": [],
   "source": [
    "# the first statement (True or \"some\") will return True and the second statement (False , \"some\") returns \"some\""
   ]
  },
  {
   "cell_type": "code",
   "execution_count": 11,
   "id": "aa53bec5-582c-49ce-b40b-409d1cfa630c",
   "metadata": {},
   "outputs": [
    {
     "name": "stdout",
     "output_type": "stream",
     "text": [
      "No data returned\n"
     ]
    }
   ],
   "source": [
    "output = None \n",
    "msg = output or \"No data returned\"\n",
    "print(msg)"
   ]
  },
  {
   "cell_type": "code",
   "execution_count": 12,
   "id": "d1a0cb7c-fd86-4c72-838a-855c94ba6c92",
   "metadata": {},
   "outputs": [],
   "source": [
    "def my_function(real_name , optional_name = None): \n",
    "    optional_display_name = optional_name or real_name\n",
    "    print(optional_display_name)\n",
    "    "
   ]
  },
  {
   "cell_type": "code",
   "execution_count": 13,
   "id": "88c3ebc0-d6de-4bd6-b1d8-03bcac041901",
   "metadata": {},
   "outputs": [
    {
     "name": "stdout",
     "output_type": "stream",
     "text": [
      "John\n"
     ]
    }
   ],
   "source": [
    "my_function(\"John\")"
   ]
  },
  {
   "cell_type": "code",
   "execution_count": 14,
   "id": "b2c33ca3-2dad-4274-9581-baae9984e7be",
   "metadata": {},
   "outputs": [
    {
     "name": "stdout",
     "output_type": "stream",
     "text": [
      "anonymous12\n"
     ]
    }
   ],
   "source": [
    "my_function(\"John\", \"anonymous12\")"
   ]
  },
  {
   "cell_type": "code",
   "execution_count": null,
   "id": "8bd0e754-4198-4f14-9c92-487196b24851",
   "metadata": {},
   "outputs": [],
   "source": []
  }
 ],
 "metadata": {
  "kernelspec": {
   "display_name": "Python 3 (ipykernel)",
   "language": "python",
   "name": "python3"
  },
  "language_info": {
   "codemirror_mode": {
    "name": "ipython",
    "version": 3
   },
   "file_extension": ".py",
   "mimetype": "text/x-python",
   "name": "python",
   "nbconvert_exporter": "python",
   "pygments_lexer": "ipython3",
   "version": "3.10.4"
  }
 },
 "nbformat": 4,
 "nbformat_minor": 5
}
