{
 "cells": [
  {
   "cell_type": "markdown",
   "id": "62a794d8-8d56-4042-ae78-b90232ef3801",
   "metadata": {},
   "source": [
    "Types of Comprehensions \n",
    "- List Comprehension \n",
    "- Dictionary Comprehension \n",
    "- Set Comprehension \n",
    "- Generator Comprehnsions "
   ]
  },
  {
   "cell_type": "markdown",
   "id": "345da918-fdb4-40ad-afb2-c47a51c34e47",
   "metadata": {},
   "source": [
    "# List Comprehension "
   ]
  },
  {
   "cell_type": "markdown",
   "id": "8112111c-10e8-4fc2-8f95-2e88f0dbb976",
   "metadata": {},
   "source": [
    "Expression for the list Comprehension  </br> \n",
    "variable = [out_exp for out_exp in input_llist if condition] "
   ]
  },
  {
   "cell_type": "code",
   "execution_count": 1,
   "id": "a52a7e6d-d0d0-4384-bfee-c30bc78b9e3b",
   "metadata": {},
   "outputs": [
    {
     "data": {
      "text/plain": [
       "[0, 3, 6, 9, 12, 15, 18, 21, 24, 27]"
      ]
     },
     "execution_count": 1,
     "metadata": {},
     "output_type": "execute_result"
    }
   ],
   "source": [
    "multiples = [i for i in range(30) if i%3==0] \n",
    "multiples"
   ]
  },
  {
   "cell_type": "code",
   "execution_count": 3,
   "id": "445f4ad9-3be0-483c-8a83-b25527de18bd",
   "metadata": {},
   "outputs": [
    {
     "name": "stdout",
     "output_type": "stream",
     "text": [
      "[0, 1, 4, 9, 16, 25, 36, 49, 64, 81]\n"
     ]
    }
   ],
   "source": [
    "# instead of this \n",
    "squared = [] \n",
    "for x in range(10): \n",
    "    squared.append(x**2) \n",
    "print(squared)"
   ]
  },
  {
   "cell_type": "code",
   "execution_count": 6,
   "id": "c45dd953-da67-41fa-83ff-69f05b9caffe",
   "metadata": {},
   "outputs": [
    {
     "name": "stdout",
     "output_type": "stream",
     "text": [
      "[0, 2, 4, 6, 8, 10, 12, 14, 16, 18]\n"
     ]
    }
   ],
   "source": [
    "# do this \n",
    "squared_comp = [ x*2 for x in range(10)]\n",
    "print(squared_comp)"
   ]
  },
  {
   "cell_type": "markdown",
   "id": "20adaad1-2f1e-4edf-a4c7-a0eece1440d5",
   "metadata": {},
   "source": [
    "# Dictionary Comprehensions \n",
    "{v: k for k, v in some_dict.items()}"
   ]
  },
  {
   "cell_type": "code",
   "execution_count": 7,
   "id": "ff9c701a-a5be-46a5-b316-4ad22cc1ddce",
   "metadata": {},
   "outputs": [
    {
     "name": "stdout",
     "output_type": "stream",
     "text": [
      "{'a': 17, 'b': 34, 'z': 3}\n"
     ]
    }
   ],
   "source": [
    "mcase = {'a': 10 , 'b':34, 'A':7, 'Z' : 3 }\n",
    "mcase_frequency = {\n",
    "    k.lower(): mcase.get(k.lower(), 0) + mcase.get(k.upper(),0) for k in mcase.keys()\n",
    "}\n",
    "print(mcase_frequency)"
   ]
  },
  {
   "cell_type": "markdown",
   "id": "5717923e-763a-48ba-8658-afff0c765066",
   "metadata": {},
   "source": [
    "# Set Comprehensions \n",
    "Similar to the List comprehension "
   ]
  },
  {
   "cell_type": "code",
   "execution_count": 12,
   "id": "a8b3c0a1-1588-4a08-9861-0a442f2fee16",
   "metadata": {},
   "outputs": [
    {
     "name": "stdout",
     "output_type": "stream",
     "text": [
      "{1, 4}\n"
     ]
    }
   ],
   "source": [
    "squared = {x**2 for x in [1,1,2]}\n",
    "print(squared)"
   ]
  },
  {
   "cell_type": "markdown",
   "id": "c3ef4993-129d-401f-a8dc-897d0952f494",
   "metadata": {},
   "source": [
    "# Generator Comprehensions \n",
    "They are similar to the List comprehensions , the only difference is that they don't allocate the memory for the whole list but generate one item at a time thus more memory efficient "
   ]
  },
  {
   "cell_type": "code",
   "execution_count": 14,
   "id": "19ac91e6-73e7-43db-9560-1e69ce9a5d28",
   "metadata": {},
   "outputs": [
    {
     "name": "stdout",
     "output_type": "stream",
     "text": [
      "<generator object <genexpr> at 0x7fae501f4900>\n"
     ]
    }
   ],
   "source": [
    "multiples_gen = (i for i in range(30) if i%3==0)\n",
    "print(multiples_gen)"
   ]
  },
  {
   "cell_type": "code",
   "execution_count": 15,
   "id": "b7985e63-65c7-44f7-a745-431fcfe7d634",
   "metadata": {},
   "outputs": [
    {
     "name": "stdout",
     "output_type": "stream",
     "text": [
      "0\n",
      "3\n",
      "6\n",
      "9\n",
      "12\n",
      "15\n",
      "18\n",
      "21\n",
      "24\n",
      "27\n"
     ]
    }
   ],
   "source": [
    "for x in multiples_gen: \n",
    "    print(x)"
   ]
  },
  {
   "cell_type": "code",
   "execution_count": null,
   "id": "24589bbf-5649-4ca5-8ffc-92aa1cb2b8d6",
   "metadata": {},
   "outputs": [],
   "source": []
  }
 ],
 "metadata": {
  "kernelspec": {
   "display_name": "Python 3 (ipykernel)",
   "language": "python",
   "name": "python3"
  },
  "language_info": {
   "codemirror_mode": {
    "name": "ipython",
    "version": 3
   },
   "file_extension": ".py",
   "mimetype": "text/x-python",
   "name": "python",
   "nbconvert_exporter": "python",
   "pygments_lexer": "ipython3",
   "version": "3.10.4"
  }
 },
 "nbformat": 4,
 "nbformat_minor": 5
}
