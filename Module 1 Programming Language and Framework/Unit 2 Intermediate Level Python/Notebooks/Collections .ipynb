{
 "cells": [
  {
   "cell_type": "markdown",
   "id": "f7475d68-afdb-46b4-96e8-47f47680ef3d",
   "metadata": {},
   "source": [
    "Python ships with a module that contains a number of container data types called Collections. Some of them are: \n",
    "- defaultdict\n",
    "- OrderedDict\n",
    "- Counter\n",
    "- deque\n",
    "- namedtuple\n",
    "- enum.Enum(Outside of the module ) "
   ]
  },
  {
   "cell_type": "markdown",
   "id": "7aae88a2-b4fe-4bf5-a30d-0ae94c76e429",
   "metadata": {},
   "source": [
    "# defaultdict "
   ]
  },
  {
   "cell_type": "code",
   "execution_count": 1,
   "id": "7eb03e62-ab60-4cf3-ae1f-65e0c21dcab9",
   "metadata": {},
   "outputs": [],
   "source": [
    "from collections import defaultdict "
   ]
  },
  {
   "cell_type": "code",
   "execution_count": 2,
   "id": "541cbbde-909b-4fc7-9e33-985c8ee4c53f",
   "metadata": {},
   "outputs": [],
   "source": [
    "colors = (\n",
    "        ('Yasoob', 'Yellow'), \n",
    "    ('Ali', 'Blue'),\n",
    "    ('Arham', 'Green'),\n",
    "    ('Ali', 'Black'),\n",
    "    ('Yasoob', 'Red'),\n",
    "    ('Ahmed', 'Silver'),\n",
    ")\n"
   ]
  },
  {
   "cell_type": "code",
   "execution_count": 6,
   "id": "8b1c8911-291a-4cb7-94a0-03fedccfc394",
   "metadata": {},
   "outputs": [],
   "source": [
    "favourite_colors = defaultdict(list)"
   ]
  },
  {
   "cell_type": "code",
   "execution_count": 7,
   "id": "13f374f0-6d1a-4ccf-beb8-f7be35e9d45b",
   "metadata": {},
   "outputs": [
    {
     "name": "stdout",
     "output_type": "stream",
     "text": [
      "defaultdict(<class 'list'>, {'Yasoob': ['Yellow', 'Red'], 'Ali': ['Blue', 'Black'], 'Arham': ['Green'], 'Ahmed': ['Silver']})\n"
     ]
    }
   ],
   "source": [
    "for name , color in colors: \n",
    "    favourite_colors[name].append(color)\n",
    "print(favourite_colors)"
   ]
  },
  {
   "cell_type": "code",
   "execution_count": 8,
   "id": "4e7fd2f6-7d55-4d77-b2c4-225fe6f0da60",
   "metadata": {},
   "outputs": [
    {
     "ename": "KeyError",
     "evalue": "'colours'",
     "output_type": "error",
     "traceback": [
      "\u001b[0;31m---------------------------------------------------------------------------\u001b[0m",
      "\u001b[0;31mKeyError\u001b[0m                                  Traceback (most recent call last)",
      "Cell \u001b[0;32mIn[8], line 2\u001b[0m\n\u001b[1;32m      1\u001b[0m some_dict \u001b[38;5;241m=\u001b[39m {} \n\u001b[0;32m----> 2\u001b[0m \u001b[43msome_dict\u001b[49m\u001b[43m[\u001b[49m\u001b[38;5;124;43m'\u001b[39;49m\u001b[38;5;124;43mcolours\u001b[39;49m\u001b[38;5;124;43m'\u001b[39;49m\u001b[43m]\u001b[49m[\u001b[38;5;124m'\u001b[39m\u001b[38;5;124mfavourite\u001b[39m\u001b[38;5;124m'\u001b[39m] \u001b[38;5;241m=\u001b[39m \u001b[38;5;124m'\u001b[39m\u001b[38;5;124myellow\u001b[39m\u001b[38;5;124m'\u001b[39m\n\u001b[1;32m      3\u001b[0m \u001b[38;5;66;03m# raises KeyError : 'colours' \u001b[39;00m\n",
      "\u001b[0;31mKeyError\u001b[0m: 'colours'"
     ]
    }
   ],
   "source": [
    "some_dict = {} \n",
    "some_dict['colours']['favourite'] = 'yellow'\n",
    "# raises KeyError : 'colours' "
   ]
  },
  {
   "cell_type": "code",
   "execution_count": 9,
   "id": "c17aa086-6e80-4471-982d-321d27fb5733",
   "metadata": {},
   "outputs": [
    {
     "name": "stdout",
     "output_type": "stream",
     "text": [
      "Red 198\n",
      "Green 170\n",
      "Blue 160\n"
     ]
    }
   ],
   "source": [
    "# possible solution to this \n",
    "from collections import OrderedDict \n",
    "colours = OrderedDict([(\"Red\", 198), (\"Green\", 170), (\"Blue\", 160)])\n",
    "for key, value in colours.items(): \n",
    "    print(key, value)"
   ]
  },
  {
   "cell_type": "code",
   "execution_count": 10,
   "id": "89631fbe-c131-4362-8458-b2fd47d78dfb",
   "metadata": {},
   "outputs": [],
   "source": [
    "# Insertion Order is preserved "
   ]
  },
  {
   "cell_type": "markdown",
   "id": "c735403a-de1b-47cd-8d2c-b9fc8da632a2",
   "metadata": {},
   "source": [
    "# Counter \n",
    "Helps to count the occurances of the particular item. For instance it can be used to count the number of individual favourite colours. "
   ]
  },
  {
   "cell_type": "code",
   "execution_count": 11,
   "id": "3cd6ecac-462f-4791-a98a-82c2eb3661fe",
   "metadata": {},
   "outputs": [],
   "source": [
    "from collections import Counter "
   ]
  },
  {
   "cell_type": "code",
   "execution_count": 12,
   "id": "ea20a4fb-d87f-427a-b3d0-ff578ea6a4ae",
   "metadata": {},
   "outputs": [],
   "source": [
    "colours = (\n",
    "    ('Yasoob', 'Yellow'),\n",
    "    ('Ali', 'Blue'),\n",
    "    ('Arham', 'Green'),\n",
    "    ('Ali', 'Black'),\n",
    "    ('Yasoob', 'Red'),\n",
    "    ('Ahmed', 'Silver'),\n",
    ")\n"
   ]
  },
  {
   "cell_type": "code",
   "execution_count": 13,
   "id": "2341adcc-5745-4035-b4be-857e54a59a97",
   "metadata": {},
   "outputs": [
    {
     "name": "stdout",
     "output_type": "stream",
     "text": [
      "Counter({'Yasoob': 2, 'Ali': 2, 'Arham': 1, 'Ahmed': 1})\n"
     ]
    }
   ],
   "source": [
    "favs = Counter( name for name, colour in colours) \n",
    "print(favs) "
   ]
  },
  {
   "cell_type": "markdown",
   "id": "edea7246-6ec7-4069-905c-48bf6feb5fae",
   "metadata": {},
   "source": [
    "# Deque \n",
    "deque provided you with a double ended queue which means that you can append and delete elements form either side of the queue. First of all you have to import the deque module from the collections library. "
   ]
  },
  {
   "cell_type": "code",
   "execution_count": 14,
   "id": "1c5d4d56-d9e1-40a8-b78f-4d5c248cb91c",
   "metadata": {},
   "outputs": [],
   "source": [
    "from collections import deque "
   ]
  },
  {
   "cell_type": "code",
   "execution_count": 15,
   "id": "e9fe7d50-623c-4d3e-8268-d04027c8449a",
   "metadata": {},
   "outputs": [],
   "source": [
    "# instantiating the deque object "
   ]
  },
  {
   "cell_type": "code",
   "execution_count": 16,
   "id": "6f0a4810-98ff-49d5-bc8a-c33c7da6fe41",
   "metadata": {},
   "outputs": [],
   "source": [
    "d = deque() "
   ]
  },
  {
   "cell_type": "code",
   "execution_count": 17,
   "id": "b5a9a3fd-1b2b-485e-bec4-fb6ee83c9664",
   "metadata": {},
   "outputs": [
    {
     "name": "stdout",
     "output_type": "stream",
     "text": [
      "3\n"
     ]
    }
   ],
   "source": [
    "# it works like the python and provides you with somewhat similar methods as well , for examle \n",
    "d.append('1')\n",
    "d.append('2')\n",
    "d.append('3')\n",
    "print(len(d))"
   ]
  },
  {
   "cell_type": "code",
   "execution_count": 18,
   "id": "15021381-136d-4e5f-b644-1c02355a4679",
   "metadata": {},
   "outputs": [
    {
     "name": "stdout",
     "output_type": "stream",
     "text": [
      "1\n"
     ]
    }
   ],
   "source": [
    "print(d[0])"
   ]
  },
  {
   "cell_type": "code",
   "execution_count": 19,
   "id": "0d5a8a15-5c7f-44eb-9e97-e2d50a0eee69",
   "metadata": {},
   "outputs": [
    {
     "name": "stdout",
     "output_type": "stream",
     "text": [
      "3\n"
     ]
    }
   ],
   "source": [
    "print(d[-1])"
   ]
  },
  {
   "cell_type": "code",
   "execution_count": 25,
   "id": "99a1a0b3-95d6-4feb-9b93-6ac972cd24b1",
   "metadata": {},
   "outputs": [
    {
     "name": "stdout",
     "output_type": "stream",
     "text": [
      "5\n"
     ]
    }
   ],
   "source": [
    "dn = deque(range(5)) \n",
    "print(len(dn))"
   ]
  },
  {
   "cell_type": "code",
   "execution_count": 26,
   "id": "934e5e09-b9dd-49ce-8be6-07790bf2e6d2",
   "metadata": {},
   "outputs": [
    {
     "data": {
      "text/plain": [
       "0"
      ]
     },
     "execution_count": 26,
     "metadata": {},
     "output_type": "execute_result"
    }
   ],
   "source": [
    "dn.popleft()"
   ]
  },
  {
   "cell_type": "code",
   "execution_count": 27,
   "id": "bfdad0cd-c118-4308-bb4c-0b194c299a87",
   "metadata": {},
   "outputs": [
    {
     "data": {
      "text/plain": [
       "4"
      ]
     },
     "execution_count": 27,
     "metadata": {},
     "output_type": "execute_result"
    }
   ],
   "source": [
    "dn.pop()"
   ]
  },
  {
   "cell_type": "code",
   "execution_count": 28,
   "id": "2be1a60b-fcd8-4bb2-b149-94d759b63264",
   "metadata": {},
   "outputs": [
    {
     "name": "stdout",
     "output_type": "stream",
     "text": [
      "deque([1, 2, 3])\n"
     ]
    }
   ],
   "source": [
    "print(dn)"
   ]
  },
  {
   "cell_type": "code",
   "execution_count": 29,
   "id": "03464e3d-6aee-4dc6-bb01-fbd18e08031c",
   "metadata": {},
   "outputs": [],
   "source": [
    "# also limit the amount of the item a deque can hold , once it has achieved the max item then it pops out the items from the opposite end "
   ]
  },
  {
   "cell_type": "code",
   "execution_count": 30,
   "id": "8f1dc836-ec69-40e8-93bd-b37dc802c36e",
   "metadata": {},
   "outputs": [
    {
     "name": "stdout",
     "output_type": "stream",
     "text": [
      "deque([1, 2, 3, 4, 5], maxlen=5)\n"
     ]
    }
   ],
   "source": [
    "d = deque([0,1,2,3,4,5], maxlen = 5)\n",
    "print(d)"
   ]
  },
  {
   "cell_type": "code",
   "execution_count": 32,
   "id": "716b3301-a4f0-4d02-999c-ca338e336a62",
   "metadata": {},
   "outputs": [
    {
     "name": "stdout",
     "output_type": "stream",
     "text": [
      "deque([2, 3, 4, 5, 6], maxlen=5)\n"
     ]
    }
   ],
   "source": [
    "d.extend([6]) # okay we need iterators here  -> The argument to the extend must be an iterator \n",
    "print(d)"
   ]
  },
  {
   "cell_type": "code",
   "execution_count": 34,
   "id": "0786eca4-873a-4c44-81ae-3892e048b9a9",
   "metadata": {},
   "outputs": [
    {
     "name": "stdout",
     "output_type": "stream",
     "text": [
      "deque([0, 1, 2, 3, 4, 5])\n"
     ]
    }
   ],
   "source": [
    "d = deque([1,2,3,4,5]) \n",
    "d.extendleft([0])\n",
    "print(d)"
   ]
  },
  {
   "cell_type": "code",
   "execution_count": 36,
   "id": "c38706a5-d34b-4073-92c0-896d80c4c46a",
   "metadata": {},
   "outputs": [],
   "source": [
    "d.extend([6,7,8])"
   ]
  },
  {
   "cell_type": "code",
   "execution_count": 37,
   "id": "bca08a5c-4fb0-4e12-86ac-99bf93f572b4",
   "metadata": {},
   "outputs": [
    {
     "name": "stdout",
     "output_type": "stream",
     "text": [
      "deque([0, 1, 2, 3, 4, 5, 6, 7, 8])\n"
     ]
    }
   ],
   "source": [
    "print(d) "
   ]
  },
  {
   "cell_type": "markdown",
   "id": "2186f516-2689-4646-9d04-38d73357d698",
   "metadata": {},
   "source": [
    "# namedTuple "
   ]
  },
  {
   "cell_type": "code",
   "execution_count": 39,
   "id": "21418678-8504-4ab6-9558-85aae8d15731",
   "metadata": {},
   "outputs": [],
   "source": [
    "tup = (\"hari\" , 30)"
   ]
  },
  {
   "cell_type": "code",
   "execution_count": 40,
   "id": "a7c8f7ff-1cf7-475f-9123-5ef6baf56e2a",
   "metadata": {},
   "outputs": [
    {
     "name": "stdout",
     "output_type": "stream",
     "text": [
      "hari\n"
     ]
    }
   ],
   "source": [
    "print(tup[0]) "
   ]
  },
  {
   "cell_type": "markdown",
   "id": "89c4711d-730c-4c82-85e2-e415f2986437",
   "metadata": {},
   "source": [
    "Well, so now what are namedtuples? They turn tuples into convenient containers for simple tasks. With namedtuples you don’t have to use integer indexes for accessing members of a tuple. You can think of namedtuples like dictionaries but unlike dictionaries they are immutable.\n",
    "\n"
   ]
  },
  {
   "cell_type": "code",
   "execution_count": 41,
   "id": "64163da8-8538-48e1-9b28-29978540da6f",
   "metadata": {},
   "outputs": [
    {
     "name": "stdout",
     "output_type": "stream",
     "text": [
      "Animal(name='perry', age=31, type='cat')\n",
      "perry\n"
     ]
    }
   ],
   "source": [
    "from collections import namedtuple\n",
    "\n",
    "Animal = namedtuple('Animal', 'name age type')\n",
    "perry = Animal(name=\"perry\", age=31, type=\"cat\")\n",
    "\n",
    "print(perry)\n",
    "# Output: Animal(name='perry', age=31, type='cat')\n",
    "\n",
    "print(perry.name)\n",
    "# Output: 'perry'"
   ]
  },
  {
   "cell_type": "markdown",
   "id": "31c166e1-f19a-4e94-a0f5-364a57f22a54",
   "metadata": {},
   "source": [
    "You can now see that we can access members of a tuple just by their name using a .. Let’s dissect it a little more. A named tuple has two required arguments. They are the tuple name and the tuple field_names. In the above example our tuple name was ‘Animal’ and the tuple field_names were ‘name’, ‘age’ and ‘type’. Namedtuple makes your tuples self-document. You can easily understand what is going on by having a quick glance at your code. And as you are not bound to use integer indexes to access members of a tuple, it makes it more easy to maintain your code. Moreover, as `namedtuple` instances do not have per-instance dictionaries, they are lightweight and require no more memory than regular tuples. This makes them faster than dictionaries. However, do remember that as with tuples, attributes in namedtuples are immutable. It means that this would not work:"
   ]
  },
  {
   "cell_type": "code",
   "execution_count": 43,
   "id": "99370755-2693-400b-9631-4741daefe9f8",
   "metadata": {},
   "outputs": [],
   "source": [
    "from collections import namedtuple "
   ]
  },
  {
   "cell_type": "code",
   "execution_count": 44,
   "id": "8fbd5bb8-ec34-4f36-992e-246aba8328e2",
   "metadata": {},
   "outputs": [],
   "source": [
    "Animal = namedtuple(\"Animal\",\"name age type\") # for the first argument tuple name and the second argument tuple field_names\n",
    "perry = Animal(name = 'perry', age = 31 , type= 'cat') \n"
   ]
  },
  {
   "cell_type": "code",
   "execution_count": 45,
   "id": "0b028d76-4ea4-41b7-a216-faaec67d0b48",
   "metadata": {},
   "outputs": [
    {
     "ename": "AttributeError",
     "evalue": "can't set attribute",
     "output_type": "error",
     "traceback": [
      "\u001b[0;31m---------------------------------------------------------------------------\u001b[0m",
      "\u001b[0;31mAttributeError\u001b[0m                            Traceback (most recent call last)",
      "Cell \u001b[0;32mIn[45], line 1\u001b[0m\n\u001b[0;32m----> 1\u001b[0m \u001b[43mperry\u001b[49m\u001b[38;5;241;43m.\u001b[39;49m\u001b[43mage\u001b[49m\u001b[38;5;241m=\u001b[39m \u001b[38;5;241m42\u001b[39m\n",
      "\u001b[0;31mAttributeError\u001b[0m: can't set attribute"
     ]
    }
   ],
   "source": [
    "perry.age= 42"
   ]
  },
  {
   "cell_type": "code",
   "execution_count": 46,
   "id": "5ce23bbc-4673-4c7c-8f2a-238b0987a620",
   "metadata": {},
   "outputs": [
    {
     "name": "stdout",
     "output_type": "stream",
     "text": [
      "{'name': 'Perry', 'age': 31, 'type': 'cat'}\n"
     ]
    }
   ],
   "source": [
    "# also we can convert the namedtuple into the dictionary \n",
    "from collections import namedtuple\n",
    "\n",
    "Animal = namedtuple('Animal', 'name age type')\n",
    "perry = Animal(name=\"Perry\", age=31, type=\"cat\")\n",
    "print(perry._asdict())"
   ]
  },
  {
   "cell_type": "markdown",
   "id": "85b25c07-6925-4999-a288-46dda4f39bad",
   "metadata": {},
   "source": [
    "enum.Enum (Python 3.4+ ) "
   ]
  },
  {
   "cell_type": "code",
   "execution_count": 47,
   "id": "b11d0754-e78e-4b4f-bbc0-9230bbd236c0",
   "metadata": {},
   "outputs": [],
   "source": [
    "# Enums are basicaly a way to organize various things. "
   ]
  },
  {
   "cell_type": "markdown",
   "id": "388612b8-4f69-42f2-b9a5-2e5d08b55d3e",
   "metadata": {},
   "source": [
    "Let’s consider the Animal namedtuple from the last example. It had a type field. The problem is, the type was a string. This poses some problems for us. What if the user types in Cat because they held the Shift key? Or CAT? Or kitten?\n",
    "\n"
   ]
  },
  {
   "cell_type": "code",
   "execution_count": 48,
   "id": "b044b727-b1c9-40d8-b704-f28b737517b5",
   "metadata": {},
   "outputs": [],
   "source": [
    "from collections import namedtuple \n",
    "from enum import Enum "
   ]
  },
  {
   "cell_type": "code",
   "execution_count": 49,
   "id": "63c71524-1e28-4a3f-a5b5-5e99dc49f1a9",
   "metadata": {},
   "outputs": [],
   "source": [
    "class Species(Enum):\n",
    "    cat = 1\n",
    "    dog = 2\n",
    "    horse = 3\n",
    "    aardvark = 4\n",
    "    butterfly = 5\n",
    "    owl = 6\n",
    "    platypus = 7\n",
    "    dragon = 8\n",
    "    unicorn = 9\n",
    "    # The list goes on and on...\n",
    "\n",
    "    # But we don't really care about age, so we can use an alias.\n",
    "    kitten = 1\n",
    "    puppy = 2\n",
    "\n",
    "Animal = namedtuple('Animal', 'name age type')\n",
    "perry = Animal(name=\"Perry\", age=31, type=Species.cat)\n",
    "drogon = Animal(name=\"Drogon\", age=4, type=Species.dragon)\n",
    "tom = Animal(name=\"Tom\", age=75, type=Species.cat)\n",
    "charlie = Animal(name=\"Charlie\", age=2, type=Species.kitten)\n"
   ]
  },
  {
   "cell_type": "code",
   "execution_count": null,
   "id": "c60d9005-36f4-446b-987e-bc64f1bcde20",
   "metadata": {},
   "outputs": [],
   "source": []
  }
 ],
 "metadata": {
  "kernelspec": {
   "display_name": "Python 3 (ipykernel)",
   "language": "python",
   "name": "python3"
  },
  "language_info": {
   "codemirror_mode": {
    "name": "ipython",
    "version": 3
   },
   "file_extension": ".py",
   "mimetype": "text/x-python",
   "name": "python",
   "nbconvert_exporter": "python",
   "pygments_lexer": "ipython3",
   "version": "3.10.4"
  }
 },
 "nbformat": 4,
 "nbformat_minor": 5
}
