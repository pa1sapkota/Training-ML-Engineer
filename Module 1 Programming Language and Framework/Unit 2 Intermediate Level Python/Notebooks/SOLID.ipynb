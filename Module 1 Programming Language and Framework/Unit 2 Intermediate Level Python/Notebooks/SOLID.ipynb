{
 "cells": [
  {
   "cell_type": "code",
   "execution_count": null,
   "id": "bd9fe2e6-84f1-4695-a8c8-99b3ab023c10",
   "metadata": {},
   "outputs": [],
   "source": []
  },
  {
   "cell_type": "code",
   "execution_count": null,
   "id": "d13a9713-ca6f-47be-ac78-01d6cec7a1da",
   "metadata": {},
   "outputs": [],
   "source": []
  },
  {
   "cell_type": "code",
   "execution_count": null,
   "id": "bd034690-3fab-484b-bf86-48d950a51eed",
   "metadata": {},
   "outputs": [],
   "source": []
  },
  {
   "cell_type": "code",
   "execution_count": null,
   "id": "39691d6f-8401-4d8e-8f60-da8e0d193680",
   "metadata": {},
   "outputs": [],
   "source": []
  },
  {
   "cell_type": "code",
   "execution_count": null,
   "id": "c6108f3b-749c-4e85-a204-9bab7bfb142c",
   "metadata": {},
   "outputs": [],
   "source": []
  },
  {
   "cell_type": "markdown",
   "id": "d2525bd4-6689-4668-ab80-7d35e7e66597",
   "metadata": {},
   "source": [
    "# Liskov Substitution Principle \n"
   ]
  },
  {
   "cell_type": "code",
   "execution_count": 1,
   "id": "b9a6137f-1ea8-473d-b8cf-1fc173a31e21",
   "metadata": {},
   "outputs": [],
   "source": [
    "class Rectangle:\n",
    "    def __init__(self, width, height):\n",
    "        self.width = width\n",
    "        self.height = height\n",
    "\n",
    "    def calculate_area(self):\n",
    "        return self.width * self.height"
   ]
  },
  {
   "cell_type": "code",
   "execution_count": 4,
   "id": "10f5a492-c805-4355-a663-da29997dad9d",
   "metadata": {},
   "outputs": [],
   "source": [
    "class Square(Rectangle):\n",
    "    # The constructor (__init__) is called when an object of the class is created.\n",
    "    def __init__(self, side):\n",
    "        # Call the constructor of the base class 'Rectangle' with 'side' as both width and height.\n",
    "        super().__init__(side, side)\n",
    "\n",
    "    # The '__setattr__' method is called when an attribute is assigned a value.\n",
    "    def __setattr__(self, key, value):\n",
    "        # Call the '__setattr__' method of the base class 'Rectangle' to handle attribute assignments in the parent class.\n",
    "        super().__setattr__(key, value)\n",
    "\n",
    "        # Check if the attribute being set is either 'width' or 'height'.\n",
    "        if key in (\"width\", \"height\"):\n",
    "            # If it's 'width', update the 'width' attribute with the new value.\n",
    "            self.__dict__['width'] = value\n",
    "            # If it's 'height', update the 'height' attribute with the new value.\n",
    "            self.__dict__['height'] = value"
   ]
  },
  {
   "cell_type": "code",
   "execution_count": 6,
   "id": "4cc6735e-f412-4771-b4a8-14850eb26991",
   "metadata": {},
   "outputs": [],
   "source": [
    "sq = Square(12)"
   ]
  },
  {
   "cell_type": "code",
   "execution_count": 7,
   "id": "f6cb7c89-69af-44a6-83de-c41c9a8bb063",
   "metadata": {},
   "outputs": [
    {
     "data": {
      "text/plain": [
       "144"
      ]
     },
     "execution_count": 7,
     "metadata": {},
     "output_type": "execute_result"
    }
   ],
   "source": [
    "sq.calculate_area()"
   ]
  },
  {
   "cell_type": "code",
   "execution_count": 8,
   "id": "b173933c-dcb8-4c96-8d9d-97bc3e8a307d",
   "metadata": {},
   "outputs": [],
   "source": [
    "rec = Rectangle(12,12)"
   ]
  },
  {
   "cell_type": "code",
   "execution_count": 9,
   "id": "a2599a9d-09f9-40c5-87ba-1d3edb28e76c",
   "metadata": {},
   "outputs": [
    {
     "data": {
      "text/plain": [
       "144"
      ]
     },
     "execution_count": 9,
     "metadata": {},
     "output_type": "execute_result"
    }
   ],
   "source": [
    "rec.calculate_area()"
   ]
  },
  {
   "cell_type": "markdown",
   "id": "f0495f35-6d61-44e7-87cc-0859eac8bc14",
   "metadata": {},
   "source": [
    "### Unfortunately, this violates the Liskov substitution principle because you can’t replace instances of Rectangle with their Square counterparts."
   ]
  },
  {
   "cell_type": "code",
   "execution_count": 10,
   "id": "f9b9b5b6-6afd-499a-b249-ede438920654",
   "metadata": {},
   "outputs": [],
   "source": [
    "# The option is to use the base class and they derived their properties from this base class (Abstract Class) \n",
    "from abc import ABC, abstractmethod\n",
    "\n",
    "class Shape(ABC):\n",
    "    @abstractmethod\n",
    "    def calculate_area(self):\n",
    "        pass\n",
    "\n",
    "class Rectangle(Shape):\n",
    "    def __init__(self, width, height):\n",
    "        self.width = width\n",
    "        self.height = height\n",
    "\n",
    "    def calculate_area(self):\n",
    "        return self.width * self.height\n",
    "\n",
    "class Square(Shape):\n",
    "    def __init__(self, side):\n",
    "        self.side = side\n",
    "\n",
    "    def calculate_area(self):\n",
    "        return self.side ** 2"
   ]
  },
  {
   "cell_type": "code",
   "execution_count": null,
   "id": "0575c453-8155-450b-bcc5-b8d29dbd7c30",
   "metadata": {},
   "outputs": [],
   "source": []
  }
 ],
 "metadata": {
  "kernelspec": {
   "display_name": "Python 3 (ipykernel)",
   "language": "python",
   "name": "python3"
  },
  "language_info": {
   "codemirror_mode": {
    "name": "ipython",
    "version": 3
   },
   "file_extension": ".py",
   "mimetype": "text/x-python",
   "name": "python",
   "nbconvert_exporter": "python",
   "pygments_lexer": "ipython3",
   "version": "3.10.4"
  }
 },
 "nbformat": 4,
 "nbformat_minor": 5
}
